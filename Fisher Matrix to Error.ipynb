{
 "cells": [
  {
   "cell_type": "markdown",
   "metadata": {},
   "source": [
    "# Read in a FM produced by gcfish and output errors for the plot of surveys\n",
    "\n",
    "We will import a Fishmat reading function below. The reading function will expect an informative header in the fm file."
   ]
  },
  {
   "cell_type": "code",
   "execution_count": 1,
   "metadata": {},
   "outputs": [],
   "source": [
    "# Imports and function definition\n",
    "import numpy as np\n",
    "import scipy.linalg\n",
    "import gcfishlib as gfl\n",
    "\n",
    "# Options\n",
    "marged = True\n",
    "fishfile = 'in/GC-Fish_linear-248468740_8ea09e8_experiment_photz_WISE_yellow_1perc.txt'; da = 'Da'\n",
    "\n",
    "# Retrieve the Fisher matrix, parameters, indices, and redshifts\n",
    "fm, parameters, indices, zs = gfl.read_fisher(fishfile, marged)"
   ]
  },
  {
   "cell_type": "code",
   "execution_count": 2,
   "metadata": {},
   "outputs": [
    {
     "name": "stdout",
     "output_type": "stream",
     "text": [
      "z = 0.28, 0.66\n",
      "sigDV/DV = 0.018, 0.0163\n"
     ]
    }
   ],
   "source": [
    "# Print the fracional errors on DV\n",
    "errors, zs = gfl.DV_from_fm(fm, parameters, indices, zs, da, marged)\n",
    "print('z =', ', '.join([str(e) for e in gfl.roundsf(zs,3)]))\n",
    "print('sigDV/DV =', ', '.join([str(e) for e in gfl.roundsf(errors,3)]))"
   ]
  },
  {
   "cell_type": "code",
   "execution_count": 4,
   "metadata": {},
   "outputs": [
    {
     "name": "stdout",
     "output_type": "stream",
     "text": [
      "z = 0.28, 0.66\n",
      "sigDA/DA = 0.00774, 0.00658\n"
     ]
    }
   ],
   "source": [
    "# Print the fracional errors on DA\n",
    "errors, zs = gfl.DA_from_fm(fm, parameters, indices, zs, da, marged)\n",
    "print('z =', ', '.join([str(e) for e in gfl.roundsf(zs,3)]))\n",
    "print('sigDA/DA =', ', '.join([str(e) for e in gfl.roundsf(errors,3)]))"
   ]
  },
  {
   "cell_type": "markdown",
   "metadata": {},
   "source": [
    "For reference:  \n",
    "\n",
    "DESI LRGs (z=0.51) if I randomly take redshift error as 0.0001?  \n",
    "sigDV/DV = 0.00658  \n",
    "sigDA/DA = 0.00859  \n",
    "And with z-error at 0.001\n",
    "sigDV/DV = 0.00717  \n",
    "sigDA/DA = 0.00919  \n",
    "But the correct dz for DESI is about 0.0005 according to the DESI \"redbook\"?, which gives:  \n",
    "\n",
    " \n",
    "\n",
    "WISE with 3 bins and dz=0.1 (fixing shot noise)\n",
    "\n",
    "sigDV/DV = 0.122, 0.146, 0.742  \n",
    "sigDA/DA = 0.0249, 0.0216, 0.0901  \n",
    "\n",
    "Euclid with 13 bins and dz=0.001 (fixing shot noise)\n",
    "\n",
    "sigDV/DV = 0.00554, 0.00553, 0.00557, 0.00565, 0.00592, 0.00637, 0.00699, 0.0078, 0.00934  \n",
    "sigDA/DA = 0.00447, 0.00449, 0.00455, 0.00464, 0.0049, 0.00529, 0.00584, 0.00654, 0.00786  \n"
   ]
  },
  {
   "cell_type": "markdown",
   "metadata": {},
   "source": [
    "Final C2-NL2 results from Domenico's file:\n",
    "\n",
    "`sigDV/DV = 0.00942, 0.00917, 0.00903, 0.00897, 0.00924, 0.00977, 0.0106, 0.0117, 0.0139`"
   ]
  },
  {
   "cell_type": "markdown",
   "metadata": {},
   "source": [
    "Dida Markovic, 2017 -> 2025"
   ]
  }
 ],
 "metadata": {
  "kernelspec": {
   "display_name": "base",
   "language": "python",
   "name": "python3"
  },
  "language_info": {
   "codemirror_mode": {
    "name": "ipython",
    "version": 3
   },
   "file_extension": ".py",
   "mimetype": "text/x-python",
   "name": "python",
   "nbconvert_exporter": "python",
   "pygments_lexer": "ipython3",
   "version": "3.9.13"
  }
 },
 "nbformat": 4,
 "nbformat_minor": 2
}
